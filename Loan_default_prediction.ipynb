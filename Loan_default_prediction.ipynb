{
 "cells": [
  {
   "cell_type": "markdown",
   "metadata": {},
   "source": [
    "# 金融风控-贷款违约预测"
   ]
  },
  {
   "cell_type": "markdown",
   "metadata": {},
   "source": [
    "## 一、项目介绍"
   ]
  },
  {
   "cell_type": "markdown",
   "metadata": {},
   "source": [
    "本次项目来自[阿里天池](https://tianchi.aliyun.com/competition/entrance/531830/introduction)，以金融风控中的个人信贷为背景，要求根据贷款申请人的数据信息预测其是否有违约的可能，以此判断是否通过此项贷款，这是一个典型的分类问题。\n",
    "项目数据集包含及其描述如下（'isDefault’字段为预测值字段，1表示违约，0表示不违约；其余为特征值字段)："
   ]
  },
  {
   "cell_type": "markdown",
   "metadata": {},
   "source": [
    "字段|描述\n",
    "---|:--:\n",
    "id|为贷款清单分配的唯一信用证标识\n",
    "loanAmnt|贷款金额\n",
    "term|贷款期限（year）\n",
    "interestRate|贷款利率\n",
    "installment|分期付款金额\n",
    "grade|贷款等级\n",
    "subGrade|贷款等级之子级\n",
    "employmentTitle|就业职称\n",
    "employmentLength|就业年限（年）\n",
    "homeOwnership|借款人在登记时提供的房屋所有权状况\n",
    "annualIncome|年收入\n",
    "verificationStatus|验证状态\n",
    "issueDate|贷款发放的月份\n",
    "purpose|借款人在贷款申请时的贷款用途类别\n",
    "postCode|借款人在贷款申请中提供的邮政编码的前3位数字\n",
    "regionCode|地区编码\n",
    "dti|债务收入比\n",
    "delinquency_2years|借款人过去2年信用档案中逾期30天以上的违约事件数\n",
    "ficoRangeLow|借款人在贷款发放时的fico所属的下限范围\n",
    "ficoRangeHigh|借款人在贷款发放时的fico所属的上限范围\n",
    "openAcc|借款人信用档案中未结信用额度的数量\n",
    "pubRec|贬损公共记录的数量\n",
    "pubRecBankruptcies|公开记录清除的数量\n",
    "revolBal|信贷周转余额合计\n",
    "revolUtil|循环额度利用率，或借款人使用的相对于所有可用循环信贷的信贷金额\n",
    "totalAcc|借款人信用档案中当前的信用额度总数\n",
    "initialListStatus|贷款的初始列表状态\n",
    "applicationType|表明贷款是个人申请还是与两个共同借款人的联合申请\n",
    "earliesCreditLine|借款人最早报告的信用额度开立的月份\n",
    "title|借款人提供的贷款名称\n",
    "policyCode|公开可用的策略_代码=1新产品不公开可用的策略_代码=2\n",
    "n系列匿名特征|匿名特征n0-n14，为一些贷款人行为计数特征的处理"
   ]
  },
  {
   "cell_type": "markdown",
   "metadata": {},
   "source": [
    "## 二、读取训练集、测试集并拼接"
   ]
  },
  {
   "cell_type": "code",
   "execution_count": 1,
   "metadata": {},
   "outputs": [],
   "source": [
    "#导入函数库和数据\n",
    "import numpy as np\n",
    "import pandas as pd \n",
    "import warnings\n",
    "warnings.filterwarnings('ignore')\n",
    "import matplotlib.pyplot as plt\n",
    "import seaborn as sns"
   ]
  },
  {
   "cell_type": "code",
   "execution_count": 2,
   "metadata": {},
   "outputs": [],
   "source": [
    "#读取训练集\n",
    "train=pd.read_csv('train.csv')\n",
    "#读取测试集\n",
    "testA=pd.read_csv('testA.csv')"
   ]
  },
  {
   "cell_type": "code",
   "execution_count": 3,
   "metadata": {},
   "outputs": [
    {
     "name": "stdout",
     "output_type": "stream",
     "text": [
      "(800000, 47) (200000, 46)\n"
     ]
    }
   ],
   "source": [
    "#查看数据集规模：训练集800000条数据，47个字段；测试集200000条数据，46个字段）\n",
    "print(train.shape,testA.shape)"
   ]
  },
  {
   "cell_type": "code",
   "execution_count": 4,
   "metadata": {},
   "outputs": [
    {
     "name": "stdout",
     "output_type": "stream",
     "text": [
      "Index(['id', 'loanAmnt', 'term', 'interestRate', 'installment', 'grade',\n",
      "       'subGrade', 'employmentTitle', 'employmentLength', 'homeOwnership',\n",
      "       'annualIncome', 'verificationStatus', 'issueDate', 'isDefault',\n",
      "       'purpose', 'postCode', 'regionCode', 'dti', 'delinquency_2years',\n",
      "       'ficoRangeLow', 'ficoRangeHigh', 'openAcc', 'pubRec',\n",
      "       'pubRecBankruptcies', 'revolBal', 'revolUtil', 'totalAcc',\n",
      "       'initialListStatus', 'applicationType', 'earliesCreditLine', 'title',\n",
      "       'policyCode', 'n0', 'n1', 'n2', 'n3', 'n4', 'n5', 'n6', 'n7', 'n8',\n",
      "       'n9', 'n10', 'n11', 'n12', 'n13', 'n14'],\n",
      "      dtype='object') \n",
      " Index(['id', 'loanAmnt', 'term', 'interestRate', 'installment', 'grade',\n",
      "       'subGrade', 'employmentTitle', 'employmentLength', 'homeOwnership',\n",
      "       'annualIncome', 'verificationStatus', 'issueDate', 'purpose',\n",
      "       'postCode', 'regionCode', 'dti', 'delinquency_2years', 'ficoRangeLow',\n",
      "       'ficoRangeHigh', 'openAcc', 'pubRec', 'pubRecBankruptcies', 'revolBal',\n",
      "       'revolUtil', 'totalAcc', 'initialListStatus', 'applicationType',\n",
      "       'earliesCreditLine', 'title', 'policyCode', 'n0', 'n1', 'n2', 'n3',\n",
      "       'n4', 'n5', 'n6', 'n7', 'n8', 'n9', 'n10', 'n11', 'n12', 'n13', 'n14'],\n",
      "      dtype='object')\n"
     ]
    }
   ],
   "source": [
    "#查看训练集和测试集的字段，训练集多出来的一个字段为预测字段 'isDefault'\n",
    "print(train.columns,'\\n',testA.columns)"
   ]
  },
  {
   "cell_type": "code",
   "execution_count": 5,
   "metadata": {},
   "outputs": [
    {
     "name": "stdout",
     "output_type": "stream",
     "text": [
      "(1000000, 47)\n"
     ]
    }
   ],
   "source": [
    "#为了统一对训练集、测试集特征字段进行处理，将二者进行拼接，拼接前测试集添加'isDefault'字段，暂时用0填充\n",
    "testA['isDefault']=0\n",
    "df=pd.concat([train,testA])\n",
    "print(df.shape)"
   ]
  },
  {
   "cell_type": "markdown",
   "metadata": {},
   "source": [
    "## 三、数据概览"
   ]
  },
  {
   "cell_type": "code",
   "execution_count": 6,
   "metadata": {},
   "outputs": [
    {
     "name": "stdout",
     "output_type": "stream",
     "text": [
      "<class 'pandas.core.frame.DataFrame'>\n",
      "Int64Index: 1000000 entries, 0 to 199999\n",
      "Data columns (total 47 columns):\n",
      " #   Column              Non-Null Count    Dtype  \n",
      "---  ------              --------------    -----  \n",
      " 0   id                  1000000 non-null  int64  \n",
      " 1   loanAmnt            1000000 non-null  float64\n",
      " 2   term                1000000 non-null  int64  \n",
      " 3   interestRate        1000000 non-null  float64\n",
      " 4   installment         1000000 non-null  float64\n",
      " 5   grade               1000000 non-null  object \n",
      " 6   subGrade            1000000 non-null  object \n",
      " 7   employmentTitle     999999 non-null   float64\n",
      " 8   employmentLength    941459 non-null   object \n",
      " 9   homeOwnership       1000000 non-null  int64  \n",
      " 10  annualIncome        1000000 non-null  float64\n",
      " 11  verificationStatus  1000000 non-null  int64  \n",
      " 12  issueDate           1000000 non-null  object \n",
      " 13  isDefault           1000000 non-null  int64  \n",
      " 14  purpose             1000000 non-null  int64  \n",
      " 15  postCode            999999 non-null   float64\n",
      " 16  regionCode          1000000 non-null  int64  \n",
      " 17  dti                 999700 non-null   float64\n",
      " 18  delinquency_2years  1000000 non-null  float64\n",
      " 19  ficoRangeLow        1000000 non-null  float64\n",
      " 20  ficoRangeHigh       1000000 non-null  float64\n",
      " 21  openAcc             1000000 non-null  float64\n",
      " 22  pubRec              1000000 non-null  float64\n",
      " 23  pubRecBankruptcies  999479 non-null   float64\n",
      " 24  revolBal            1000000 non-null  float64\n",
      " 25  revolUtil           999342 non-null   float64\n",
      " 26  totalAcc            1000000 non-null  float64\n",
      " 27  initialListStatus   1000000 non-null  int64  \n",
      " 28  applicationType     1000000 non-null  int64  \n",
      " 29  earliesCreditLine   1000000 non-null  object \n",
      " 30  title               999999 non-null   float64\n",
      " 31  policyCode          1000000 non-null  float64\n",
      " 32  n0                  949619 non-null   float64\n",
      " 33  n1                  949619 non-null   float64\n",
      " 34  n2                  949619 non-null   float64\n",
      " 35  n3                  949619 non-null   float64\n",
      " 36  n4                  958367 non-null   float64\n",
      " 37  n5                  949619 non-null   float64\n",
      " 38  n6                  949619 non-null   float64\n",
      " 39  n7                  949619 non-null   float64\n",
      " 40  n8                  949618 non-null   float64\n",
      " 41  n9                  949619 non-null   float64\n",
      " 42  n10                 958367 non-null   float64\n",
      " 43  n11                 912673 non-null   float64\n",
      " 44  n12                 949619 non-null   float64\n",
      " 45  n13                 949619 non-null   float64\n",
      " 46  n14                 949619 non-null   float64\n",
      "dtypes: float64(33), int64(9), object(5)\n",
      "memory usage: 366.2+ MB\n"
     ]
    }
   ],
   "source": [
    "#查看数据概览，部分字段存在缺失值\n",
    "df.info()"
   ]
  },
  {
   "cell_type": "code",
   "execution_count": 7,
   "metadata": {},
   "outputs": [
    {
     "data": {
      "text/html": [
       "<div>\n",
       "<style scoped>\n",
       "    .dataframe tbody tr th:only-of-type {\n",
       "        vertical-align: middle;\n",
       "    }\n",
       "\n",
       "    .dataframe tbody tr th {\n",
       "        vertical-align: top;\n",
       "    }\n",
       "\n",
       "    .dataframe thead th {\n",
       "        text-align: right;\n",
       "    }\n",
       "</style>\n",
       "<table border=\"1\" class=\"dataframe\">\n",
       "  <thead>\n",
       "    <tr style=\"text-align: right;\">\n",
       "      <th></th>\n",
       "      <th>Missing values</th>\n",
       "      <th>% of total values</th>\n",
       "    </tr>\n",
       "  </thead>\n",
       "  <tbody>\n",
       "    <tr>\n",
       "      <th>n11</th>\n",
       "      <td>87327</td>\n",
       "      <td>8.7327</td>\n",
       "    </tr>\n",
       "    <tr>\n",
       "      <th>employmentLength</th>\n",
       "      <td>58541</td>\n",
       "      <td>5.8541</td>\n",
       "    </tr>\n",
       "    <tr>\n",
       "      <th>n8</th>\n",
       "      <td>50382</td>\n",
       "      <td>5.0382</td>\n",
       "    </tr>\n",
       "    <tr>\n",
       "      <th>n14</th>\n",
       "      <td>50381</td>\n",
       "      <td>5.0381</td>\n",
       "    </tr>\n",
       "    <tr>\n",
       "      <th>n13</th>\n",
       "      <td>50381</td>\n",
       "      <td>5.0381</td>\n",
       "    </tr>\n",
       "    <tr>\n",
       "      <th>n12</th>\n",
       "      <td>50381</td>\n",
       "      <td>5.0381</td>\n",
       "    </tr>\n",
       "    <tr>\n",
       "      <th>n9</th>\n",
       "      <td>50381</td>\n",
       "      <td>5.0381</td>\n",
       "    </tr>\n",
       "    <tr>\n",
       "      <th>n0</th>\n",
       "      <td>50381</td>\n",
       "      <td>5.0381</td>\n",
       "    </tr>\n",
       "    <tr>\n",
       "      <th>n1</th>\n",
       "      <td>50381</td>\n",
       "      <td>5.0381</td>\n",
       "    </tr>\n",
       "    <tr>\n",
       "      <th>n2</th>\n",
       "      <td>50381</td>\n",
       "      <td>5.0381</td>\n",
       "    </tr>\n",
       "    <tr>\n",
       "      <th>n3</th>\n",
       "      <td>50381</td>\n",
       "      <td>5.0381</td>\n",
       "    </tr>\n",
       "    <tr>\n",
       "      <th>n5</th>\n",
       "      <td>50381</td>\n",
       "      <td>5.0381</td>\n",
       "    </tr>\n",
       "    <tr>\n",
       "      <th>n6</th>\n",
       "      <td>50381</td>\n",
       "      <td>5.0381</td>\n",
       "    </tr>\n",
       "    <tr>\n",
       "      <th>n7</th>\n",
       "      <td>50381</td>\n",
       "      <td>5.0381</td>\n",
       "    </tr>\n",
       "    <tr>\n",
       "      <th>n10</th>\n",
       "      <td>41633</td>\n",
       "      <td>4.1633</td>\n",
       "    </tr>\n",
       "    <tr>\n",
       "      <th>n4</th>\n",
       "      <td>41633</td>\n",
       "      <td>4.1633</td>\n",
       "    </tr>\n",
       "    <tr>\n",
       "      <th>revolUtil</th>\n",
       "      <td>658</td>\n",
       "      <td>0.0658</td>\n",
       "    </tr>\n",
       "    <tr>\n",
       "      <th>pubRecBankruptcies</th>\n",
       "      <td>521</td>\n",
       "      <td>0.0521</td>\n",
       "    </tr>\n",
       "    <tr>\n",
       "      <th>dti</th>\n",
       "      <td>300</td>\n",
       "      <td>0.0300</td>\n",
       "    </tr>\n",
       "    <tr>\n",
       "      <th>title</th>\n",
       "      <td>1</td>\n",
       "      <td>0.0001</td>\n",
       "    </tr>\n",
       "    <tr>\n",
       "      <th>postCode</th>\n",
       "      <td>1</td>\n",
       "      <td>0.0001</td>\n",
       "    </tr>\n",
       "    <tr>\n",
       "      <th>employmentTitle</th>\n",
       "      <td>1</td>\n",
       "      <td>0.0001</td>\n",
       "    </tr>\n",
       "  </tbody>\n",
       "</table>\n",
       "</div>"
      ],
      "text/plain": [
       "                    Missing values  % of total values\n",
       "n11                          87327             8.7327\n",
       "employmentLength             58541             5.8541\n",
       "n8                           50382             5.0382\n",
       "n14                          50381             5.0381\n",
       "n13                          50381             5.0381\n",
       "n12                          50381             5.0381\n",
       "n9                           50381             5.0381\n",
       "n0                           50381             5.0381\n",
       "n1                           50381             5.0381\n",
       "n2                           50381             5.0381\n",
       "n3                           50381             5.0381\n",
       "n5                           50381             5.0381\n",
       "n6                           50381             5.0381\n",
       "n7                           50381             5.0381\n",
       "n10                          41633             4.1633\n",
       "n4                           41633             4.1633\n",
       "revolUtil                      658             0.0658\n",
       "pubRecBankruptcies             521             0.0521\n",
       "dti                            300             0.0300\n",
       "title                            1             0.0001\n",
       "postCode                         1             0.0001\n",
       "employmentTitle                  1             0.0001"
      ]
     },
     "execution_count": 7,
     "metadata": {},
     "output_type": "execute_result"
    }
   ],
   "source": [
    "#计算缺失值占比情况\n",
    "def missing_value_table(df):\n",
    "    #计算所有的缺失值\n",
    "    mis_val = df.isnull().sum()\n",
    "    # %比\n",
    "    mis_val_percent = 100*df.isnull().sum()/len(df)\n",
    "    #合并\n",
    "    mis_val_table = pd.concat([mis_val,mis_val_percent],axis=1)\n",
    "    mis_val_rename = mis_val_table.rename(columns = {0:'Missing values',1:'% of total values'})\n",
    "    #剔除完整的并排序\n",
    "    mis_val_rename = mis_val_rename[mis_val_rename.iloc[:,1]!=0].sort_values('% of total values',ascending=False)\n",
    "    return mis_val_rename\n",
    "missing_value_table(df)"
   ]
  },
  {
   "cell_type": "code",
   "execution_count": 8,
   "metadata": {},
   "outputs": [
    {
     "data": {
      "text/plain": [
       "float64    33\n",
       "int64       9\n",
       "object      5\n",
       "dtype: int64"
      ]
     },
     "execution_count": 8,
     "metadata": {},
     "output_type": "execute_result"
    }
   ],
   "source": [
    "#查看数据类型分布\n",
    "df.dtypes.value_counts()"
   ]
  },
  {
   "cell_type": "code",
   "execution_count": 9,
   "metadata": {},
   "outputs": [
    {
     "data": {
      "text/plain": [
       "grade                  7\n",
       "subGrade              35\n",
       "employmentLength      11\n",
       "issueDate            139\n",
       "earliesCreditLine    726\n",
       "dtype: int64"
      ]
     },
     "execution_count": 9,
     "metadata": {},
     "output_type": "execute_result"
    }
   ],
   "source": [
    "#查看object类型数据类型数\n",
    "df.select_dtypes('object').apply(pd.Series.nunique,axis=0)"
   ]
  },
  {
   "cell_type": "markdown",
   "metadata": {},
   "source": [
    "## 四、结合各字段业务含义进行数值编码"
   ]
  },
  {
   "cell_type": "markdown",
   "metadata": {},
   "source": [
    "### 1、逐个考察每个字段后，对下表中的字段进行初步处理"
   ]
  },
  {
   "cell_type": "markdown",
   "metadata": {},
   "source": [
    "字段|描述|从业务角度进行分类|处理方式\n",
    "---|:--:|:--:|:--:\n",
    "id|为贷款清单分配的唯一信用证标识|无序类别型|无实际意义，删除\n",
    "grade|贷款等级|有序类别型|转换为数值\n",
    "subGrade|贷款等级之子级|有序类别型|转换为数值\n",
    "employmentTitle|就业职称|无序类别型|转化为object\n",
    "employmentLength|就业年限（年）|数值型|转化为数值\n",
    "homeOwnership|借款人在登记时提供的房屋所有权状况|无序类别型|转化为object\n",
    "verificationStatus|验证状态|无序类别型|转化为object\n",
    "issueDate|贷款发放的月份|数值型|拆分为年数值、月数值两列\n",
    "purpose|借款人在贷款申请时的贷款用途类别|无序类别型|转化为object\n",
    "postCode|借款人在贷款申请中提供的邮政编码的前3位数字|无序类别型|转化为object\n",
    "regionCode|地区编码|无序类别型|转化为object\n",
    "ficoRangeLow|借款人在贷款发放时的fico所属的下限范围|数值型|二者平均值作为新的字段\n",
    "ficoRangeHigh|借款人在贷款发放时的fico所属的上限范围|数值型|\n",
    "initialListStatus|贷款的初始列表状态|无序类别型|转化为object\n",
    "applicationType|表明贷款是个人申请还是与两个共同借款人的联合申请|无序类别型|转化为object\n",
    "earliesCreditLine|借款人最早报告的信用额度开立的月份|数值型|拆分为年数值、月数值两列\n",
    "title|借款人提供的贷款名称|无序类别型|转化为object\n",
    "policyCode|公开可用的策略_代码=1新产品不公开可用的策略_代码=2|无序类别型|所有值都是1，无有效信息，删除"
   ]
  },
  {
   "cell_type": "code",
   "execution_count": 10,
   "metadata": {},
   "outputs": [],
   "source": [
    "#删除'id','policyCode'字段\n",
    "df=df.drop(['id','policyCode'],axis=1)"
   ]
  },
  {
   "cell_type": "code",
   "execution_count": 11,
   "metadata": {},
   "outputs": [],
   "source": [
    "#‘贷款等级’是有高低顺序的，转化为数值格式\n",
    "df['grade']=df['grade'].replace(['A','B','C','D','E','F','G'],[1,2,3,4,5,6,7])"
   ]
  },
  {
   "cell_type": "code",
   "execution_count": 12,
   "metadata": {},
   "outputs": [],
   "source": [
    "#‘贷款等级之子级’中的字母表示的信息在‘贷款等级’字段已经有了，将其删除。然后将剩下的数字转化为数值格式\n",
    "import re\n",
    "regex_pat = re.compile(r'[A-Z]', flags=re.IGNORECASE)\n",
    "df['subGrade']=df['subGrade'].str.replace(regex_pat,'',regex=True).astype('int64')"
   ]
  },
  {
   "cell_type": "code",
   "execution_count": 13,
   "metadata": {},
   "outputs": [],
   "source": [
    "#'就业年限（年）'是有大小之分的，将其转化为数值，并做缺失值填充处理\n",
    "df['employmentLength']=df['employmentLength'].str.replace(' years','').str.replace(' year','').str.replace('+','').replace('< 1',0)\n",
    "df['employmentLength']=df['employmentLength'].fillna(10).astype('int64')"
   ]
  },
  {
   "cell_type": "code",
   "execution_count": 14,
   "metadata": {},
   "outputs": [],
   "source": [
    "#‘借款人在登记时提供的房屋所有权状况’、‘验证状态’、‘借款人在贷款申请时的贷款用途类别’、‘地区编码’等是没有大小之分的，转化为object格式\n",
    "df['homeOwnership']=df['homeOwnership'].astype('object')\n",
    "df['verificationStatus']=df['verificationStatus'].astype('object')\n",
    "df['purpose']=df['purpose'].astype('object')\n",
    "df['regionCode']=df['regionCode'].astype('object')\n",
    "df['employmentTitle']=df['employmentTitle'].astype('object')\n",
    "df['postCode']=df['postCode'].astype('object')\n",
    "df['initialListStatus']=df['initialListStatus'].astype('object')\n",
    "df['applicationType']=df['applicationType'].astype('object')\n",
    "df['title']=df['title'].astype('object')"
   ]
  },
  {
   "cell_type": "code",
   "execution_count": 15,
   "metadata": {},
   "outputs": [],
   "source": [
    "#'贷款发放的月份'字段转化为时间格式之后可以发现其日全部为1,为多余信息,直接去除，年份信息、月份信息作为新的两个字段\n",
    "pd.to_datetime(df['issueDate']).dt.day.value_counts()\n",
    "df['issueYear']=pd.to_datetime(df['issueDate']).dt.year\n",
    "df['issueMonth']=pd.to_datetime(df['issueDate']).dt.month\n",
    "del df['issueDate']"
   ]
  },
  {
   "cell_type": "code",
   "execution_count": 16,
   "metadata": {},
   "outputs": [],
   "source": [
    "#添加earliesCreditLine_Month，earliesCreditLine_Year两字段，删除earliesCreditLine字段\n",
    "df['earliesCreditLine_Month']=df['earliesCreditLine'].str.split('-',expand=True)[0].replace(\n",
    "    ['Jan','Feb','Mar','Apr','May','Jun','Jul','Aug','Sep','Oct','Nov','Dec'],[1,2,3,4,5,6,7,8,9,10,11,12])\n",
    "df['earliesCreditLine_Year']=df['earliesCreditLine'].str.split('-',expand=True)[1].astype('int64')\n",
    "del df['earliesCreditLine']"
   ]
  },
  {
   "cell_type": "code",
   "execution_count": 17,
   "metadata": {},
   "outputs": [],
   "source": [
    "#借款人在贷款发放时的fico的范围替换为中间值\n",
    "df['fico']=(df['ficoRangeLow']+df['ficoRangeHigh'])/2\n",
    "del df['ficoRangeLow']\n",
    "del df['ficoRangeHigh']"
   ]
  },
  {
   "cell_type": "markdown",
   "metadata": {},
   "source": [
    "### 2、处理object字段"
   ]
  },
  {
   "cell_type": "code",
   "execution_count": 18,
   "metadata": {},
   "outputs": [
    {
     "name": "stdout",
     "output_type": "stream",
     "text": [
      "<class 'pandas.core.frame.DataFrame'>\n",
      "Int64Index: 1000000 entries, 0 to 199999\n",
      "Data columns (total 9 columns):\n",
      " #   Column              Non-Null Count    Dtype \n",
      "---  ------              --------------    ----- \n",
      " 0   employmentTitle     999999 non-null   object\n",
      " 1   homeOwnership       1000000 non-null  object\n",
      " 2   verificationStatus  1000000 non-null  object\n",
      " 3   purpose             1000000 non-null  object\n",
      " 4   postCode            999999 non-null   object\n",
      " 5   regionCode          1000000 non-null  object\n",
      " 6   initialListStatus   1000000 non-null  object\n",
      " 7   applicationType     1000000 non-null  object\n",
      " 8   title               999999 non-null   object\n",
      "dtypes: object(9)\n",
      "memory usage: 76.3+ MB\n"
     ]
    }
   ],
   "source": [
    "#查看object字段，有少量缺失值\n",
    "df.select_dtypes('object').info()"
   ]
  },
  {
   "cell_type": "code",
   "execution_count": 19,
   "metadata": {},
   "outputs": [
    {
     "data": {
      "text/plain": [
       "0            320\n",
       "1         219843\n",
       "2          31698\n",
       "3          46854\n",
       "4             54\n",
       "           ...  \n",
       "199995    330967\n",
       "199996     38930\n",
       "199997    282016\n",
       "199998        97\n",
       "199999       320\n",
       "Name: employmentTitle, Length: 1000000, dtype: object"
      ]
     },
     "execution_count": 19,
     "metadata": {},
     "output_type": "execute_result"
    }
   ],
   "source": [
    "df['employmentTitle']"
   ]
  },
  {
   "cell_type": "code",
   "execution_count": 20,
   "metadata": {},
   "outputs": [
    {
     "name": "stdout",
     "output_type": "stream",
     "text": [
      "54.0        63978\n",
      "38.0        15878\n",
      "32.0        14522\n",
      "184.0        7639\n",
      "151.0        6533\n",
      "            ...  \n",
      "245537.0        1\n",
      "245536.0        1\n",
      "245533.0        1\n",
      "245532.0        1\n",
      "183433.0        1\n",
      "Name: employmentTitle, Length: 298101, dtype: int64\n",
      "134.0    11092\n",
      "19.0     10716\n",
      "51.0     10189\n",
      "31.0      9188\n",
      "4.0       8966\n",
      "         ...  \n",
      "894.0        1\n",
      "921.0        1\n",
      "922.0        1\n",
      "923.0        1\n",
      "940.0        1\n",
      "Name: postCode, Length: 935, dtype: int64\n",
      "0.0        491400\n",
      "4.0        185386\n",
      "5.0         55782\n",
      "6.0         49628\n",
      "3.0         18035\n",
      "            ...  \n",
      "40390.0         1\n",
      "40387.0         1\n",
      "40386.0         1\n",
      "40385.0         1\n",
      "30083.0         1\n",
      "Name: title, Length: 47903, dtype: int64\n"
     ]
    }
   ],
   "source": [
    "#查看有缺失值的字段各自出现频率最高的值\n",
    "for i in ['employmentTitle','postCode','title']:\n",
    "    print(df[i].value_counts())"
   ]
  },
  {
   "cell_type": "code",
   "execution_count": 21,
   "metadata": {},
   "outputs": [],
   "source": [
    "#缺失值填充\n",
    "df['employmentTitle']=df['employmentTitle'].fillna('54')\n",
    "df['postCode']=df['postCode'].fillna('134')\n",
    "df['title']=df['title'].fillna('0')"
   ]
  },
  {
   "cell_type": "code",
   "execution_count": 22,
   "metadata": {},
   "outputs": [
    {
     "name": "stdout",
     "output_type": "stream",
     "text": [
      "employmentTitle       298102\n",
      "homeOwnership              6\n",
      "verificationStatus         3\n",
      "purpose                   14\n",
      "postCode                 936\n",
      "regionCode                51\n",
      "initialListStatus          2\n",
      "applicationType            2\n",
      "title                  47904\n",
      "dtype: int64\n"
     ]
    }
   ],
   "source": [
    "#查看object字段各自类别数量\n",
    "print(df.select_dtypes('object').apply(pd.Series.nunique,axis=0))"
   ]
  },
  {
   "cell_type": "markdown",
   "metadata": {},
   "source": [
    "#### 对类别数大于10的，采用频率编码，小于10的，采用独热编码"
   ]
  },
  {
   "cell_type": "markdown",
   "metadata": {},
   "source": [
    "### 3、频率编码"
   ]
  },
  {
   "cell_type": "code",
   "execution_count": 23,
   "metadata": {},
   "outputs": [],
   "source": [
    "feature_list=['employmentTitle','purpose','postCode','regionCode','title']"
   ]
  },
  {
   "cell_type": "code",
   "execution_count": 24,
   "metadata": {},
   "outputs": [],
   "source": [
    "for feature in feature_list:\n",
    "    df[feature]=df[feature].map(df[feature].value_counts())"
   ]
  },
  {
   "cell_type": "markdown",
   "metadata": {},
   "source": [
    "### 4、独热编码"
   ]
  },
  {
   "cell_type": "code",
   "execution_count": 25,
   "metadata": {},
   "outputs": [
    {
     "name": "stdout",
     "output_type": "stream",
     "text": [
      "homeOwnership         6\n",
      "verificationStatus    3\n",
      "initialListStatus     2\n",
      "applicationType       2\n",
      "dtype: int64\n"
     ]
    }
   ],
   "source": [
    "#剩余object字段各自的类别数比较少，采用独热编码的方式\n",
    "print(df.select_dtypes('object').apply(pd.Series.nunique,axis=0))"
   ]
  },
  {
   "cell_type": "code",
   "execution_count": 26,
   "metadata": {},
   "outputs": [],
   "source": [
    "df=pd.get_dummies(df)"
   ]
  },
  {
   "cell_type": "code",
   "execution_count": 27,
   "metadata": {},
   "outputs": [
    {
     "data": {
      "text/plain": [
       "float64    28\n",
       "int64      14\n",
       "uint8      13\n",
       "dtype: int64"
      ]
     },
     "execution_count": 27,
     "metadata": {},
     "output_type": "execute_result"
    }
   ],
   "source": [
    "#检查字段类型，所有字段已完成数值编码\n",
    "df.dtypes.value_counts()"
   ]
  },
  {
   "cell_type": "markdown",
   "metadata": {},
   "source": [
    "## 五、选取子数据集，解决数据分布不均衡问题"
   ]
  },
  {
   "cell_type": "markdown",
   "metadata": {},
   "source": [
    "### 1、考察预测值字段'isDefault'的分布，可以看到两种特征分布不均衡"
   ]
  },
  {
   "cell_type": "code",
   "execution_count": 28,
   "metadata": {},
   "outputs": [
    {
     "data": {
      "text/plain": [
       "Text(0.5, 1.0, 'Default Distributions \\n (0: notDefault || 1: isDefault)')"
      ]
     },
     "execution_count": 28,
     "metadata": {},
     "output_type": "execute_result"
    },
    {
     "data": {
      "image/png": "[encoded data removed]",
      "text/plain": [
       "<Figure size 432x288 with 1 Axes>"
      ]
     },
     "metadata": {
      "needs_background": "light"
     },
     "output_type": "display_data"
    }
   ],
   "source": [
    "colors=['#202731','#D90B1C']\n",
    "sns.countplot('isDefault',data=df.iloc[0:800000,:],palette=colors)\n",
    "plt.title('Default Distributions \\n (0: notDefault || 1: isDefault)', fontsize=20)"
   ]
  },
  {
   "cell_type": "markdown",
   "metadata": {},
   "source": [
    "### 2、通过选取部分数据的方式，使预测值字段均衡"
   ]
  },
  {
   "cell_type": "code",
   "execution_count": 29,
   "metadata": {},
   "outputs": [
    {
     "data": {
      "text/plain": [
       "(319220, 55)"
      ]
     },
     "execution_count": 29,
     "metadata": {},
     "output_type": "execute_result"
    }
   ],
   "source": [
    "#打乱训练集数据\n",
    "sub_df = df.iloc[0:800000,:].sample(frac=1,random_state=42)\n",
    "#提取所有'isDefault'字段为1的行\n",
    "isDefault = sub_df.loc[sub_df['isDefault'] == 1]\n",
    "#提取与1相同数量的'isDefault'字段为0的行\n",
    "notDefault = sub_df.loc[sub_df['isDefault'] == 0][:len(isDefault)]\n",
    "#拼接后打乱\n",
    "sub_df = pd.concat([isDefault, notDefault]).sample(frac=1, random_state=42)\n",
    "sub_df.shape"
   ]
  },
  {
   "cell_type": "code",
   "execution_count": 30,
   "metadata": {},
   "outputs": [
    {
     "data": {
      "text/plain": [
       "Text(0.5, 1.0, 'Default Distributions \\n (0: notDefault || 1: isDefault)')"
      ]
     },
     "execution_count": 30,
     "metadata": {},
     "output_type": "execute_result"
    },
    {
     "data": {
      "image/png": "[encoded data removed]",
      "text/plain": [
       "<Figure size 432x288 with 1 Axes>"
      ]
     },
     "metadata": {
      "needs_background": "light"
     },
     "output_type": "display_data"
    }
   ],
   "source": [
    "#查看子数据集sub_df中预测值分布，0和1数量相同\n",
    "colors=['#202731','#D90B1C']\n",
    "sns.countplot('isDefault',data=sub_df,palette=colors)\n",
    "plt.title('Default Distributions \\n (0: notDefault || 1: isDefault)', fontsize=20)"
   ]
  },
  {
   "cell_type": "markdown",
   "metadata": {},
   "source": [
    "## 六、缺失值填充、标准化、分割验证集"
   ]
  },
  {
   "cell_type": "code",
   "execution_count": 31,
   "metadata": {},
   "outputs": [
    {
     "data": {
      "text/plain": [
       "SimpleImputer(strategy='median')"
      ]
     },
     "execution_count": 31,
     "metadata": {},
     "output_type": "execute_result"
    }
   ],
   "source": [
    "#使用df数据集训练缺失值填充模型\n",
    "from sklearn.impute import SimpleImputer\n",
    "imp = SimpleImputer(missing_values=np.nan, strategy='median')\n",
    "imp.fit(df.drop(columns=['isDefault']))"
   ]
  },
  {
   "cell_type": "code",
   "execution_count": 32,
   "metadata": {},
   "outputs": [
    {
     "data": {
      "text/plain": [
       "StandardScaler()"
      ]
     },
     "execution_count": 32,
     "metadata": {},
     "output_type": "execute_result"
    }
   ],
   "source": [
    "#使用df数据集训练标准化模型\n",
    "from sklearn.preprocessing import StandardScaler\n",
    "std=StandardScaler()\n",
    "std.fit(df.drop(columns=['isDefault']))"
   ]
  },
  {
   "cell_type": "code",
   "execution_count": 33,
   "metadata": {},
   "outputs": [],
   "source": [
    "#使用训练好的模型将sub_df的特征值字段进行缺失值填充和标准化处理\n",
    "x=imp.transform(sub_df.drop(columns=['isDefault']))\n",
    "x=std.transform(x)\n",
    "#提取预测值字段\n",
    "y=sub_df['isDefault']"
   ]
  },
  {
   "cell_type": "code",
   "execution_count": 34,
   "metadata": {},
   "outputs": [],
   "source": [
    "#分割出验证集\n",
    "from sklearn.model_selection import train_test_split\n",
    "x_train, x_test, y_train, y_test= train_test_split(x,y,test_size = 0.2,random_state = 0)"
   ]
  },
  {
   "cell_type": "markdown",
   "metadata": {},
   "source": [
    "## 七、模型预测与评估"
   ]
  },
  {
   "cell_type": "code",
   "execution_count": 35,
   "metadata": {},
   "outputs": [],
   "source": [
    "from sklearn.linear_model import LogisticRegression\n",
    "import lightgbm as lgb\n",
    "from sklearn.metrics import roc_auc_score"
   ]
  },
  {
   "cell_type": "code",
   "execution_count": 36,
   "metadata": {},
   "outputs": [
    {
     "data": {
      "text/plain": [
       "LogisticRegression(C=0.01)"
      ]
     },
     "execution_count": 36,
     "metadata": {},
     "output_type": "execute_result"
    }
   ],
   "source": [
    "#逻辑回归模型训练\n",
    "log_reg = LogisticRegression(C=0.01)\n",
    "log_reg.fit(x_train,y_train)"
   ]
  },
  {
   "cell_type": "code",
   "execution_count": 37,
   "metadata": {},
   "outputs": [
    {
     "data": {
      "text/plain": [
       "0.7161832672858836"
      ]
     },
     "execution_count": 37,
     "metadata": {},
     "output_type": "execute_result"
    }
   ],
   "source": [
    "#逻辑回归模型预测及评分\n",
    "predictions = log_reg.predict_proba(x_test)[:,1]\n",
    "test_auc = roc_auc_score(y_test,predictions)\n",
    "test_auc"
   ]
  },
  {
   "cell_type": "code",
   "execution_count": 38,
   "metadata": {},
   "outputs": [
    {
     "name": "stdout",
     "output_type": "stream",
     "text": [
      "Training until validation scores don't improve for 100 rounds\n",
      "[200]\ttrain's auc: 0.74318\ttrain's binary_logloss: 0.59641\ttest's auc: 0.732312\ttest's binary_logloss: 0.604733\n",
      "[400]\ttrain's auc: 0.756371\ttrain's binary_logloss: 0.585643\ttest's auc: 0.733919\ttest's binary_logloss: 0.603302\n",
      "[600]\ttrain's auc: 0.7674\ttrain's binary_logloss: 0.576576\ttest's auc: 0.734211\ttest's binary_logloss: 0.603055\n",
      "[800]\ttrain's auc: 0.777427\ttrain's binary_logloss: 0.56835\ttest's auc: 0.734413\ttest's binary_logloss: 0.602891\n",
      "Early stopping, best iteration is:\n",
      "[879]\ttrain's auc: 0.781184\ttrain's binary_logloss: 0.565241\ttest's auc: 0.734481\ttest's binary_logloss: 0.602835\n"
     ]
    },
    {
     "data": {
      "text/plain": [
       "LGBMClassifier(class_weight='balanced', learning_rate=0.05, n_estimators=10000,\n",
       "               objective='binary', random_state=50, reg_alpha=0.1,\n",
       "               reg_lambda=0.1, subsample=0.8)"
      ]
     },
     "execution_count": 38,
     "metadata": {},
     "output_type": "execute_result"
    }
   ],
   "source": [
    "#lightgbm模型训练\n",
    "model = lgb.LGBMClassifier(n_estimators=10000, objective = 'binary', \n",
    "                                   class_weight = 'balanced', learning_rate = 0.05, \n",
    "                                   reg_alpha = 0.1, reg_lambda = 0.1, \n",
    "                                   subsample = 0.8, n_jobs = -1, random_state = 50)\n",
    "\n",
    "model.fit(x_train, y_train, eval_metric = 'auc',\n",
    "          eval_set = [(x_test, y_test), (x_train, y_train)],\n",
    "          eval_names = ['test', 'train'],\n",
    "          early_stopping_rounds = 100, verbose = 200)"
   ]
  },
  {
   "cell_type": "code",
   "execution_count": 39,
   "metadata": {},
   "outputs": [
    {
     "data": {
      "text/plain": [
       "0.7344806887249563"
      ]
     },
     "execution_count": 39,
     "metadata": {},
     "output_type": "execute_result"
    }
   ],
   "source": [
    "#lightgbm模型预测及评分\n",
    "predictions2 = model.predict_proba(x_test)[:,1]\n",
    "test_auc2 = roc_auc_score(y_test,predictions2)\n",
    "test_auc2"
   ]
  },
  {
   "cell_type": "markdown",
   "metadata": {},
   "source": [
    "## 八、预测测试集"
   ]
  },
  {
   "cell_type": "code",
   "execution_count": 40,
   "metadata": {},
   "outputs": [],
   "source": [
    "#使用训练好的模型将测试集的特征值字段进行缺失值填充和标准化处理\n",
    "xA=imp.transform(df.iloc[800000:1000000,:].drop(columns=['isDefault']))\n",
    "xA=std.transform(xA)"
   ]
  },
  {
   "cell_type": "code",
   "execution_count": 41,
   "metadata": {},
   "outputs": [],
   "source": [
    "#使用最佳模型并预测输出文件\n",
    "predictionsA = model.predict_proba(xA)[:,1]\n",
    "submit=pd.read_csv('testA.csv')\n",
    "submit['isDefault'] = predictionsA\n",
    "submit.to_csv('prediction.csv', index=False)"
   ]
  }
 ],
 "metadata": {
  "kernelspec": {
   "display_name": "Python 3",
   "language": "python",
   "name": "python3"
  },
  "language_info": {
   "codemirror_mode": {
    "name": "ipython",
    "version": 3
   },
   "file_extension": ".py",
   "mimetype": "text/x-python",
   "name": "python",
   "nbconvert_exporter": "python",
   "pygments_lexer": "ipython3",
   "version": "3.8.3"
  }
 },
 "nbformat": 4,
 "nbformat_minor": 4
}
